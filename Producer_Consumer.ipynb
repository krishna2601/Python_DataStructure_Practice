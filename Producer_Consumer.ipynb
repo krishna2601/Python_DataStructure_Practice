{
 "cells": [
  {
   "cell_type": "markdown",
   "metadata": {},
   "source": [
    "## the Consumer and Producer threads runs indefinitely while checking the status of the queue. \n",
    "## The Producer thread is responsible for putting items into the queue if it is not full \n",
    "## while the Consumer thread consumes items if there are any."
   ]
  },
  {
   "cell_type": "code",
   "execution_count": 1,
   "metadata": {},
   "outputs": [
    {
     "ename": "ModuleNotFoundError",
     "evalue": "No module named 'Queue'",
     "output_type": "error",
     "traceback": [
      "\u001b[0;31m---------------------------------------------------------------------------\u001b[0m",
      "\u001b[0;31mModuleNotFoundError\u001b[0m                       Traceback (most recent call last)",
      "\u001b[0;32m<ipython-input-1-826f82d6746d>\u001b[0m in \u001b[0;36m<module>\u001b[0;34m\u001b[0m\n\u001b[1;32m      3\u001b[0m \u001b[0;32mimport\u001b[0m \u001b[0mlogging\u001b[0m\u001b[0;34m\u001b[0m\u001b[0;34m\u001b[0m\u001b[0m\n\u001b[1;32m      4\u001b[0m \u001b[0;32mimport\u001b[0m \u001b[0mrandom\u001b[0m\u001b[0;34m\u001b[0m\u001b[0;34m\u001b[0m\u001b[0m\n\u001b[0;32m----> 5\u001b[0;31m \u001b[0;32mimport\u001b[0m \u001b[0mQueue\u001b[0m\u001b[0;34m\u001b[0m\u001b[0;34m\u001b[0m\u001b[0m\n\u001b[0m\u001b[1;32m      6\u001b[0m \u001b[0;34m\u001b[0m\u001b[0m\n\u001b[1;32m      7\u001b[0m logging.basicConfig(level=logging.DEBUG,\n",
      "\u001b[0;31mModuleNotFoundError\u001b[0m: No module named 'Queue'"
     ]
    }
   ],
   "source": [
    "import threading\n",
    "import time\n",
    "import logging\n",
    "import random\n",
    "import Queue\n",
    "\n",
    "\n",
    "logging.basicConfig(level=logging.DEBUG,\n",
    "                    format='(%(threadName)-9s) %(message)s',)\n",
    "\n",
    "BUF_SIZE = 10\n",
    "q = Queue.Queue(BUF_SIZE)\n",
    "\n",
    "class ProducerThread(threading.Thread):\n",
    "    def __init__(self, group=None, target=None, name=None,\n",
    "                 args=(), kwargs=None, verbose=None):\n",
    "       # super(ProducerThread,self).__init__()\n",
    "        self.target = target\n",
    "        self.name = name\n",
    "\n",
    "    def run(self):\n",
    "        while True:\n",
    "            if not q.full():\n",
    "                item = random.randint(1,10)\n",
    "                q.put(item)\n",
    "                logging.debug('Putting ' + str(item)  \n",
    "                              + ' : ' + str(q.qsize()) + ' items in queue')\n",
    "                time.sleep(random.random())\n",
    "        return\n",
    "\n",
    "class ConsumerThread(threading.Thread):\n",
    "    def __init__(self, group=None, target=None, name=None,\n",
    "                 args=(), kwargs=None, verbose=None):\n",
    "        #super(ConsumerThread,self).__init__()\n",
    "        self.target = target\n",
    "        self.name = name\n",
    "        return\n",
    "\n",
    "    def run(self):\n",
    "        while True:\n",
    "            if not q.empty():\n",
    "                item = q.get()\n",
    "                logging.debug('Getting ' + str(item) \n",
    "                              + ' : ' + str(q.qsize()) + ' items in queue')\n",
    "                time.sleep(random.random())\n",
    "        return\n",
    "\n",
    "if __name__ == '__main__':\n",
    "    \n",
    "    p = ProducerThread(name='producer')\n",
    "    c = ConsumerThread(name='consumer')\n",
    "\n",
    "    p.start()\n",
    "    time.sleep(2)\n",
    "    c.start()\n",
    "    time.sleep(2)"
   ]
  },
  {
   "cell_type": "code",
   "execution_count": 2,
   "metadata": {},
   "outputs": [
    {
     "name": "stdout",
     "output_type": "stream",
     "text": [
      "\u001b[31mERROR: Could not find a version that satisfies the requirement queue (from versions: none)\u001b[0m\n",
      "\u001b[31mERROR: No matching distribution found for queue\u001b[0m\n",
      "\u001b[33mWARNING: You are using pip version 20.2.2; however, version 20.3.3 is available.\n",
      "You should consider upgrading via the '/Library/Frameworks/Python.framework/Versions/3.8/bin/python3.8 -m pip install --upgrade pip' command.\u001b[0m\n",
      "Note: you may need to restart the kernel to use updated packages.\n"
     ]
    }
   ],
   "source": [
    "pip install queue"
   ]
  },
  {
   "cell_type": "code",
   "execution_count": 3,
   "metadata": {},
   "outputs": [
    {
     "name": "stdout",
     "output_type": "stream",
     "text": [
      "Collecting pip\n",
      "  Downloading pip-20.3.3-py2.py3-none-any.whl (1.5 MB)\n",
      "\u001b[K     |████████████████████████████████| 1.5 MB 4.7 MB/s eta 0:00:01\n",
      "\u001b[?25hInstalling collected packages: pip\n",
      "  Attempting uninstall: pip\n",
      "    Found existing installation: pip 20.2.2\n",
      "    Uninstalling pip-20.2.2:\n",
      "      Successfully uninstalled pip-20.2.2\n",
      "Successfully installed pip-20.3.3\n",
      "Note: you may need to restart the kernel to use updated packages.\n"
     ]
    }
   ],
   "source": [
    "pip install --upgrade pip"
   ]
  },
  {
   "cell_type": "code",
   "execution_count": 4,
   "metadata": {},
   "outputs": [
    {
     "name": "stdout",
     "output_type": "stream",
     "text": [
      "\u001b[31mERROR: Could not find a version that satisfies the requirement queue\u001b[0m\n",
      "\u001b[31mERROR: No matching distribution found for queue\u001b[0m\n",
      "Note: you may need to restart the kernel to use updated packages.\n"
     ]
    }
   ],
   "source": [
    "pip install queue"
   ]
  },
  {
   "cell_type": "code",
   "execution_count": 5,
   "metadata": {},
   "outputs": [
    {
     "name": "stdout",
     "output_type": "stream",
     "text": [
      "\u001b[31mERROR: Could not find a version that satisfies the requirement Queue\u001b[0m\n",
      "\u001b[31mERROR: No matching distribution found for Queue\u001b[0m\n",
      "Note: you may need to restart the kernel to use updated packages.\n"
     ]
    }
   ],
   "source": [
    "pip install Queue"
   ]
  },
  {
   "cell_type": "code",
   "execution_count": null,
   "metadata": {},
   "outputs": [],
   "source": [
    "import sys\n",
    "import random\n",
    "import time\n",
    "from threading import *\n",
    "\n",
    "class Producer(Thread):\n",
    "\tdef __init__(self, items, can_produce, can_consume):\n",
    "\t\tThread.__init__(self)\n",
    "\t\tself.items = items\n",
    "\t\tself.can_produce = can_produce\n",
    "\t\tself.can_consume = can_consume\n",
    "\n",
    "\tdef produce_item(self):\n",
    "\t\tself.items.append(1)\n",
    "\t\tprint \"{}: i produced an item\".format(self.name)\n",
    "\n",
    "\tdef wait(self):\n",
    "\t\ttime.sleep(random.uniform(0, 3))\n",
    "\n",
    "\tdef run(self):\n",
    "\t\twhile 1:\n",
    "\t\t\tself.wait()\n",
    "\t\t\tself.can_produce.acquire()\n",
    "\t\t\tself.produce_item()\n",
    "\t\t\tself.can_consume.release()\t\n",
    "\n",
    "class Consumer(Thread):\n",
    "\tdef __init__(self, items, can_produce, can_consume):\n",
    "\t\tThread.__init__(self)\n",
    "\t\tself.items = items\n",
    "\t\tself.can_produce = can_produce\n",
    "\t\tself.can_consume = can_consume\n",
    "\n",
    "\tdef consume_item(self):\n",
    "\t\titem = self.items.pop()\n",
    "\t\tprint \"{}: i consumed an item\".format(self.name)\n",
    "\n",
    "\tdef wait(self):\n",
    "\t\ttime.sleep(random.uniform(0, 3))\n",
    "\n",
    "\tdef run(self):\n",
    "\t\twhile 1:\n",
    "\t\t\tself.wait()\n",
    "\t\t\tself.can_consume.acquire()\n",
    "\t\t\tself.consume_item()\n",
    "\t\t\tself.can_produce.release()\n",
    "\n",
    "def usage(script):\n",
    "\tprint \"Usage:\\t%s count_producers count_consumers buffer_length\" % script\n",
    "\n",
    "if __name__ == \"__main__\":\n",
    "\n",
    "\tif len(sys.argv) != 4:\n",
    "\t\tusage(sys.argv[0])\n",
    "\t\tsys.exit(0)\n",
    "\n",
    "\tcount_producers = int(sys.argv[1])\n",
    "\tcount_consumers = int(sys.argv[2])\n",
    "\tbuffer_length = int(sys.argv[3])\n",
    "\n",
    "\titems = []\n",
    "\tproducers = []\n",
    "\tconsumers = []\n",
    "\n",
    "\t#acquire while buffer is not full\n",
    "\tcan_produce = Semaphore(buffer_length)\n",
    "\n",
    "\t#acquire while buffer is not empty\n",
    "\tcan_consume = Semaphore(0)\n",
    "\n",
    "\tfor i in range(count_producers):\n",
    "\t\tproducers.append(Producer(items, can_produce, can_consume))\n",
    "\t\tproducers[-1].start()\n",
    "\n",
    "\tfor i in range(count_consumers):\n",
    "\t\tconsumers.append(Consumer(items, can_produce, can_consume))\n",
    "\t\tconsumers[-1].start()\n",
    "\n",
    "\tfor p in producers:\n",
    "\t\tp.join()\n",
    "\n",
    "\tfor c in consumers:\n",
    "\t\tc.join()"
   ]
  }
 ],
 "metadata": {
  "kernelspec": {
   "display_name": "Python 3 (ipykernel)",
   "language": "python",
   "name": "python3"
  },
  "language_info": {
   "codemirror_mode": {
    "name": "ipython",
    "version": 3
   },
   "file_extension": ".py",
   "mimetype": "text/x-python",
   "name": "python",
   "nbconvert_exporter": "python",
   "pygments_lexer": "ipython3",
   "version": "3.10.0"
  }
 },
 "nbformat": 4,
 "nbformat_minor": 4
}
