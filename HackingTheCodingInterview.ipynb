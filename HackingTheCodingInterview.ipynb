{
 "cells": [
  {
   "cell_type": "code",
   "execution_count": 11,
   "metadata": {},
   "outputs": [
    {
     "data": {
      "text/plain": [
       "114"
      ]
     },
     "execution_count": 11,
     "metadata": {},
     "output_type": "execute_result"
    }
   ],
   "source": [
    "#Find first non-repeating integer in an array\n",
    "\n",
    "def findFirstNonRepeatingElement(arr):\n",
    "    count = 0\n",
    "    for i in range(len(arr)):\n",
    "        count = 0\n",
    "        for j in range(len(arr)):\n",
    "            if i != j and arr[i]==arr[j]:\n",
    "                count += 1\n",
    "                break\n",
    "        if count==0:\n",
    "            return arr[i]\n",
    "    return \n",
    "\n",
    "array = [114, 225, 669, 996, 336, 6547, 669, 225, 336, 669, 996, 669, 225]\n",
    "findFirstNonRepeatingElement(array)"
   ]
  },
  {
   "cell_type": "code",
   "execution_count": null,
   "metadata": {},
   "outputs": [],
   "source": [
    "#Rearrange array in decreasing order\n",
    "\n",
    "def sortArrayDecendingOrder(arr):\n",
    "    for i in range(len(arr)):\n",
    "        for j in range(len(arr)):\n",
    "            "
   ]
  }
 ],
 "metadata": {
  "kernelspec": {
   "display_name": "Python 3 (ipykernel)",
   "language": "python",
   "name": "python3"
  },
  "language_info": {
   "codemirror_mode": {
    "name": "ipython",
    "version": 3
   },
   "file_extension": ".py",
   "mimetype": "text/x-python",
   "name": "python",
   "nbconvert_exporter": "python",
   "pygments_lexer": "ipython3",
   "version": "3.10.0"
  }
 },
 "nbformat": 4,
 "nbformat_minor": 4
}
