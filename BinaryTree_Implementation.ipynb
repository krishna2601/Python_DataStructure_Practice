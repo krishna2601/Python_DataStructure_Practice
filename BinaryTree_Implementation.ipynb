{
 "cells": [
  {
   "cell_type": "code",
   "execution_count": 1,
   "metadata": {},
   "outputs": [],
   "source": [
    "class Node:\n",
    "    def __init__(self,data):\n",
    "        self.data = data\n",
    "        self.right = None\n",
    "        self.left = None"
   ]
  },
  {
   "cell_type": "code",
   "execution_count": 216,
   "metadata": {},
   "outputs": [],
   "source": [
    "class BinaryTree:\n",
    "    def __init__(self):\n",
    "        self.root = None\n",
    "        \n",
    "    \n",
    "    def insert(self,key):\n",
    "        if self.root!=None:\n",
    "            self.__insert(key,self.root)\n",
    "        else:\n",
    "            new_node = Node(key)\n",
    "            self.root = new_node\n",
    "            \n",
    "    def __insert(self, key, leaf):\n",
    "\n",
    "        new_node = Node(key)\n",
    "        \n",
    "        if key == leaf.data:\n",
    "            return\n",
    "\n",
    "        if key<leaf.data:\n",
    "            if leaf.left != None:\n",
    "                self.__insert(key,leaf.left)\n",
    "            else:\n",
    "                leaf.left = new_node\n",
    "        else:\n",
    "            if leaf.right!=None:\n",
    "                self.__insert(key,leaf.right)\n",
    "            else:\n",
    "                leaf.right = new_node\n",
    "            \n",
    "    def printBinTree(self, order='Inorder'):\n",
    "        \n",
    "        if self.root == None:\n",
    "            print(\"There are no nodes to display\")\n",
    "        else:\n",
    "            if order.lower().replace(' ','') == 'inorder':\n",
    "                self.__printInorder(self.root)\n",
    "            elif order.lower().replace(' ','') == 'preorder':\n",
    "                self.__printPreOrder(self.root)\n",
    "            elif order.lower().replace(' ','') == 'postorder':\n",
    "                self.__printPostOrder(self.root)\n",
    "                \n",
    "            \n",
    "        \n",
    "\n",
    "    #using recursion       \n",
    "    def __printInorder(self,root):\n",
    "        if(root):\n",
    "            \n",
    "            #traverse left subtree\n",
    "            self.__printInorder(root.left)\n",
    "            \n",
    "            #print(root)\n",
    "            print(root.data)\n",
    "            \n",
    "            #traverse right subtree\n",
    "            self.__printInorder(root.right)\n",
    "            \n",
    "    def __printPreOrder(self,root):\n",
    "        if(root):\n",
    "            \n",
    "            #print(root)\n",
    "            print(root.data)\n",
    "            \n",
    "            #traverse left subtree\n",
    "            self.__printPreOrder(root.left)\n",
    "            \n",
    "            #traverse right subtree\n",
    "            self.__printPreOrder(root.right)\n",
    "            \n",
    "    def __printPostOrder(self,root): \n",
    "        if(root):\n",
    "            \n",
    "            #traverse left subtree\n",
    "            self.__printPostOrder(root.left)\n",
    "            \n",
    "            #traverse right subtree\n",
    "            self.__printPostOrder(root.right)\n",
    "            \n",
    "             #print(root)\n",
    "            print(root.data)\n",
    "            \n",
    "    def searchNode(self, root, key):\n",
    "        \n",
    "        if root == None or root.data == key:\n",
    "            return root\n",
    "        if key < root.data:\n",
    "            return self.searchNode(root.left,key)\n",
    "        else:\n",
    "            return self.searchNode(root.right,key)\n",
    "            \n",
    "            \n",
    "            \n",
    "    def search(self,key):\n",
    "        if self.root == None:\n",
    "            print(\"No nodes are present in the tree\")\n",
    "            return\n",
    "        else:\n",
    "            root = self.searchNode(self.root,key)\n",
    "            if root == None:\n",
    "                print(\"There is node available with key {}\".format(key))\n",
    "            return root\n",
    "        "
   ]
  },
  {
   "cell_type": "code",
   "execution_count": 217,
   "metadata": {},
   "outputs": [],
   "source": [
    "B1 = BinaryTree()"
   ]
  },
  {
   "cell_type": "code",
   "execution_count": 218,
   "metadata": {},
   "outputs": [],
   "source": [
    "items = [34,12,334,56,78,12]\n",
    "\n",
    "for i in items:\n",
    "    B1.insert(i)"
   ]
  },
  {
   "cell_type": "code",
   "execution_count": 219,
   "metadata": {},
   "outputs": [
    {
     "name": "stdout",
     "output_type": "stream",
     "text": [
      "12\n",
      "34\n",
      "56\n",
      "78\n",
      "334\n"
     ]
    }
   ],
   "source": [
    "B1.printBinTree('inorder')"
   ]
  },
  {
   "cell_type": "code",
   "execution_count": 220,
   "metadata": {},
   "outputs": [
    {
     "name": "stdout",
     "output_type": "stream",
     "text": [
      "34\n",
      "12\n",
      "334\n",
      "56\n",
      "78\n"
     ]
    }
   ],
   "source": [
    "B1.printBinTree('Pre order')"
   ]
  },
  {
   "cell_type": "code",
   "execution_count": 221,
   "metadata": {},
   "outputs": [
    {
     "name": "stdout",
     "output_type": "stream",
     "text": [
      "12\n",
      "78\n",
      "56\n",
      "334\n",
      "34\n"
     ]
    }
   ],
   "source": [
    "B1.printBinTree('Postorder')"
   ]
  },
  {
   "cell_type": "code",
   "execution_count": 222,
   "metadata": {},
   "outputs": [
    {
     "name": "stdout",
     "output_type": "stream",
     "text": [
      "There is node available with key 100\n"
     ]
    }
   ],
   "source": [
    "node = B1.search(100)"
   ]
  },
  {
   "cell_type": "code",
   "execution_count": null,
   "metadata": {},
   "outputs": [],
   "source": []
  },
  {
   "cell_type": "code",
   "execution_count": null,
   "metadata": {},
   "outputs": [],
   "source": []
  }
 ],
 "metadata": {
  "kernelspec": {
   "display_name": "Python 3",
   "language": "python",
   "name": "python3"
  },
  "language_info": {
   "codemirror_mode": {
    "name": "ipython",
    "version": 3
   },
   "file_extension": ".py",
   "mimetype": "text/x-python",
   "name": "python",
   "nbconvert_exporter": "python",
   "pygments_lexer": "ipython3",
   "version": "3.8.3"
  }
 },
 "nbformat": 4,
 "nbformat_minor": 4
}
