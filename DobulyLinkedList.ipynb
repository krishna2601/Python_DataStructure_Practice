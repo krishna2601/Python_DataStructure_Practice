{
 "cells": [
  {
   "cell_type": "code",
   "execution_count": 12,
   "metadata": {},
   "outputs": [],
   "source": [
    "class Node:\n",
    "    def __init__(self,data):\n",
    "        self.data = data\n",
    "        self.previous = None\n",
    "        self.next = None"
   ]
  },
  {
   "cell_type": "code",
   "execution_count": 275,
   "metadata": {},
   "outputs": [],
   "source": [
    "class DoublyLinkedlist:\n",
    "    def __init__(self):\n",
    "        self.head = None\n",
    "    #Push node at the beginning\n",
    "    def push(self, data):\n",
    "        new_node = Node(data)\n",
    "        #create a new node if it doesn't exist\n",
    "        if self.head == None:\n",
    "            self.head = new_node\n",
    "        else:\n",
    "            new_node.previous = None\n",
    "            new_node.next = self.head\n",
    "            self.head.previous = new_node\n",
    "            self.head = new_node\n",
    "    \n",
    "    #insert node in between        \n",
    "    def insertAfter(self,prev_data,data):\n",
    "        \n",
    "        #check prev node exists in the list\n",
    "        current = self.head\n",
    "      \n",
    "        prev_node = None\n",
    "        while(current):\n",
    "            if current.data == prev_data:\n",
    "                prev_node = current\n",
    "                break\n",
    "            current = current.next\n",
    "        if prev_node == None:\n",
    "            print('No such previous nodes exist in the list')\n",
    "            return\n",
    "        \n",
    "        new_node = Node(data)\n",
    "        \n",
    "        #check if its the head node\n",
    "        current = self.head\n",
    "        while(current):\n",
    "            if current.data == prev_node.data:\n",
    "                new_node.next = current.next\n",
    "                new_node.previous = current\n",
    "                current.next = new_node\n",
    "            current = current.next\n",
    "     #append node at the end       \n",
    "    def appendNode(self,data):\n",
    "        #get the last node\n",
    "        new_node = Node(data)\n",
    "        #create a new node\n",
    "        if self.head == None:\n",
    "            self.head = new_node\n",
    "            return\n",
    "        last = self.head\n",
    "        current = None\n",
    "        print(last.data)\n",
    "        while(last):\n",
    "            current = last\n",
    "            last= last.next\n",
    "           \n",
    "            \n",
    "        current.next = new_node   \n",
    "        new_node.next = None\n",
    "        new_node.previous = current\n",
    "        \n",
    "    def lengthOfList(self):\n",
    "        current = self.head\n",
    "        if current == None:\n",
    "            print(\"There are no nodes to delete\")\n",
    "            return\n",
    "        count = 0\n",
    "        while(current):\n",
    "            count += 1\n",
    "            current = current.next\n",
    "        return count\n",
    "            \n",
    "    def deleteNode(self,key):\n",
    "        #check the count of node:\n",
    "        lengthList = self.lengthOfList()\n",
    "        \n",
    "        if lengthList == 0:\n",
    "            print(\"There are no nodes to delete\")\n",
    "            return\n",
    "        current = self.head\n",
    "        prev = None\n",
    "        while(current):\n",
    "            prev = current\n",
    "            current = current.next\n",
    "            if current.data == key:\n",
    "                print(current.data)\n",
    "                prev.next = current.next\n",
    "                print(prev.data)\n",
    "                current..prev = prev\n",
    "                current = None\n",
    "                if prev == self.head:\n",
    "                    self.head = current\n",
    "                break\n",
    "             \n",
    "            \n",
    "                      \n",
    "     \n",
    "    #print doubly linkedlist        \n",
    "    def printlist(self):\n",
    "        current = self.head\n",
    "        while(current):\n",
    "            print(current.data)\n",
    "            current = current.next\n",
    "            \n",
    "    \n",
    "        "
   ]
  },
  {
   "cell_type": "code",
   "execution_count": 276,
   "metadata": {},
   "outputs": [],
   "source": [
    "dll = DoublyLinkedlist()"
   ]
  },
  {
   "cell_type": "code",
   "execution_count": 277,
   "metadata": {},
   "outputs": [
    {
     "name": "stdout",
     "output_type": "stream",
     "text": [
      "30\n"
     ]
    }
   ],
   "source": [
    "dll.appendNode(30)\n",
    "dll.appendNode(50)"
   ]
  },
  {
   "cell_type": "code",
   "execution_count": 278,
   "metadata": {},
   "outputs": [
    {
     "name": "stdout",
     "output_type": "stream",
     "text": [
      "30\n",
      "50\n"
     ]
    }
   ],
   "source": [
    "dll.printlist()"
   ]
  },
  {
   "cell_type": "code",
   "execution_count": 279,
   "metadata": {},
   "outputs": [
    {
     "name": "stdout",
     "output_type": "stream",
     "text": [
      "12\n",
      "30\n",
      "50\n"
     ]
    }
   ],
   "source": [
    "dll.push(12)\n",
    "dll.printlist()"
   ]
  },
  {
   "cell_type": "code",
   "execution_count": 280,
   "metadata": {},
   "outputs": [],
   "source": [
    "dll.insertAfter(30,32)"
   ]
  },
  {
   "cell_type": "code",
   "execution_count": 281,
   "metadata": {},
   "outputs": [
    {
     "name": "stdout",
     "output_type": "stream",
     "text": [
      "12\n",
      "30\n",
      "32\n",
      "50\n"
     ]
    }
   ],
   "source": [
    "dll.printlist()"
   ]
  },
  {
   "cell_type": "code",
   "execution_count": 282,
   "metadata": {},
   "outputs": [],
   "source": [
    "dll.insertAfter(32,45)"
   ]
  },
  {
   "cell_type": "code",
   "execution_count": 283,
   "metadata": {},
   "outputs": [
    {
     "name": "stdout",
     "output_type": "stream",
     "text": [
      "12\n",
      "30\n",
      "32\n",
      "45\n",
      "50\n"
     ]
    }
   ],
   "source": [
    "dll.printlist()"
   ]
  },
  {
   "cell_type": "code",
   "execution_count": 284,
   "metadata": {},
   "outputs": [
    {
     "name": "stdout",
     "output_type": "stream",
     "text": [
      "45\n",
      "45\n"
     ]
    }
   ],
   "source": [
    "dll.deleteNode(45)"
   ]
  },
  {
   "cell_type": "code",
   "execution_count": 285,
   "metadata": {},
   "outputs": [
    {
     "name": "stdout",
     "output_type": "stream",
     "text": [
      "12\n",
      "30\n",
      "32\n",
      "45\n",
      "50\n"
     ]
    }
   ],
   "source": [
    "dll.printlist()"
   ]
  },
  {
   "cell_type": "code",
   "execution_count": 231,
   "metadata": {},
   "outputs": [],
   "source": [
    "dll.deleteNode(12)"
   ]
  },
  {
   "cell_type": "code",
   "execution_count": 233,
   "metadata": {},
   "outputs": [],
   "source": [
    "dll.printlist()"
   ]
  },
  {
   "cell_type": "code",
   "execution_count": 287,
   "metadata": {},
   "outputs": [
    {
     "data": {
      "text/plain": [
       "['-7', '1', '150']"
      ]
     },
     "execution_count": 287,
     "metadata": {},
     "output_type": "execute_result"
    }
   ],
   "source": [
    "sorted(['-7','1','150'])"
   ]
  },
  {
   "cell_type": "code",
   "execution_count": 288,
   "metadata": {},
   "outputs": [
    {
     "data": {
      "text/plain": [
       "(0, 500)"
      ]
     },
     "execution_count": 288,
     "metadata": {},
     "output_type": "execute_result"
    }
   ],
   "source": [
    "divmod(500,1000)"
   ]
  },
  {
   "cell_type": "code",
   "execution_count": null,
   "metadata": {},
   "outputs": [],
   "source": []
  }
 ],
 "metadata": {
  "kernelspec": {
   "display_name": "Python 3 (ipykernel)",
   "language": "python",
   "name": "python3"
  },
  "language_info": {
   "codemirror_mode": {
    "name": "ipython",
    "version": 3
   },
   "file_extension": ".py",
   "mimetype": "text/x-python",
   "name": "python",
   "nbconvert_exporter": "python",
   "pygments_lexer": "ipython3",
   "version": "3.10.0"
  }
 },
 "nbformat": 4,
 "nbformat_minor": 4
}
