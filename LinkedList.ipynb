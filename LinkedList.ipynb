{
 "cells": [
  {
   "cell_type": "code",
   "execution_count": 392,
   "metadata": {},
   "outputs": [],
   "source": [
    "class Node:\n",
    "    def __init__(self,data):\n",
    "        self.data = data\n",
    "        self.next = None\n",
    "class linkedlist:\n",
    "    \n",
    "    def __init__(self):\n",
    "        self.head = None\n",
    "     \n",
    "    #append to the beginning of the list\n",
    "    def push(self, new_data):\n",
    "        \n",
    "        new_node = Node(new_data)\n",
    "        if self.head != None:\n",
    "            new_node.next = self.head\n",
    "        self.head = new_node\n",
    "        self.printlinkedlist()\n",
    "        \n",
    "   #insert node after node\n",
    "    def insertAfter(self,prev_node, new_data):\n",
    "        \n",
    "        if prev_node == None or self.head == None:\n",
    "            print('There is no previous node or linkedlist doesn\\'t exist ...')\n",
    "            return\n",
    "        \n",
    "        \n",
    "        current = self.head\n",
    "        new_node = Node(new_data)\n",
    "        #get the previous node\n",
    "        prev = None\n",
    "        while(current):\n",
    "            if current.data == prev_node:\n",
    "                prev = current\n",
    "                break\n",
    "            \n",
    "            current= current.next\n",
    "        #change the links\n",
    "        \n",
    "        if prev != None:\n",
    "            new_node.next = prev.next\n",
    "            prev.next = new_node\n",
    "        else:\n",
    "            print(\"No such previous node exists\")\n",
    "        self.printlinkedlist()\n",
    "\n",
    "        \n",
    "    #append node to the last node\n",
    "    def append(self,new_data):\n",
    "        #if no node in the list\n",
    "        new_node = Node(new_data)\n",
    "        if self.head == None:\n",
    "            self.head = new_node\n",
    "        else:\n",
    "            #get the last node\n",
    "            last = self.head\n",
    "            while(last.next):\n",
    "                last = last.next\n",
    "            last.next = new_node\n",
    "        #self.printlinkedlist()      \n",
    "            \n",
    "    #delete the node \n",
    "    def deleteNode(self,key):\n",
    "        if self.head == None:\n",
    "            print('there are no nodes in the linked list')\n",
    "            return\n",
    "    \n",
    "        last = self.head\n",
    "        prev = None\n",
    "        \n",
    "        if last.data == key:\n",
    "            self.head = last.next\n",
    "            self.printlinkedlist()\n",
    "            return\n",
    "        \n",
    "        while(last.next):\n",
    "            if(last.data == key):\n",
    "                break\n",
    "            prev = last\n",
    "            last = last.next\n",
    "    \n",
    "        if prev != None:\n",
    "            prev.next = last.next\n",
    "\n",
    "        self.printlinkedlist()\n",
    "            \n",
    "        \n",
    "    #utility functions\n",
    "    def printlinkedlist(self):\n",
    "        last = self.head\n",
    "        \n",
    "        if last == None:\n",
    "            print(\"No nodes to display\")\n",
    "        while(last):\n",
    "            print(last.data)\n",
    "            last = last.next\n",
    "            \n",
    "    def lengthOfList(self):\n",
    "        current = self.head\n",
    "        count = 0\n",
    "        while(current):\n",
    "            count+=1\n",
    "            current = current.next\n",
    "        return count\n",
    "    \n",
    "    def searchNodeInList(self,x):\n",
    "        \n",
    "        current = self.head\n",
    "        while(current):\n",
    "            if current.data == x:\n",
    "                return True\n",
    "            current = current.next\n",
    "        return False\n",
    "    \n",
    "    def getTheNthNode(self,num):\n",
    "        length_list = self.lengthOfList()\n",
    "        if num>length_list:\n",
    "            print('there is total {} nodes in the list'+length_list)\n",
    "            return None\n",
    "        else:\n",
    "            current = self.head\n",
    "            count = 0\n",
    "            while(current):\n",
    "                if count == num:\n",
    "                    return current\n",
    "                current = current.next\n",
    "                count+=1\n",
    "        return None\n",
    "    \n",
    "    def getTheKthToLastElement(self,k):\n",
    "        #get the length of list\n",
    "        lenLinkedList = self.lengthOfList()\n",
    "        print(lenLinkedList)\n",
    "        if lenLinkedList<=k:\n",
    "            print(\"There are total {} nodes in the list\".format(lenLinkedList))\n",
    "            return\n",
    "        current = self.head\n",
    "        count = 0\n",
    "        prev = None\n",
    "        while(current):\n",
    "            if count == k:\n",
    "                break\n",
    "            count += 1\n",
    "            current = current.next\n",
    "        \n",
    "        data = []\n",
    "        while(current):\n",
    "            data.append(current.data)\n",
    "            current = current.next\n",
    "            \n",
    "        return data\n",
    "    \n",
    "    #sum list in reverse order\n",
    "    #book : 95\n",
    "    def sumlists(self,l1:linkedlist):\n",
    "        if l1.head == None or l2.head == None:\n",
    "            print(\"Either of the list is empty\")\n",
    "            return\n",
    "        #loop through the first list and make an number\n",
    "        current = self.head\n",
    "        num1 = 0\n",
    "        mul = 1\n",
    "        while(current):\n",
    "            num1 = int(num1 + mul*current.data)\n",
    "            mul *= int(10)\n",
    "            current = current.next\n",
    "        print(num1)\n",
    "        \n",
    "        current = l1.head\n",
    "        num2 = 0\n",
    "        mul = 1\n",
    "        while(current):\n",
    "            num2 = int(num2 + mul*current.data)\n",
    "            mul *= int(10)\n",
    "            current = current.next\n",
    "        print(num2)\n",
    "        \n",
    "        num = num1+num2\n",
    "        \n",
    "        ll = linkedlist()\n",
    "        \n",
    "        while(num):\n",
    "            data = int(num % 10)\n",
    "            ll.append(data)\n",
    "            num = int(num/10)\n",
    "            \n",
    "       \n",
    "        return ll     \n",
    "        \n",
    "    #sum is stored in the forward\n",
    "    def sumlistForward(self,l1:linkedlist):\n",
    "        if l1.head == None or l2.head == None:\n",
    "            print(\"Either of the list is empty\")\n",
    "            return\n",
    "        lengthList = self.lengthOfList()\n",
    "        #loop through the first list and make an number\n",
    "        current = self.head\n",
    "        num1 = 0\n",
    "        mul = int(pow(10,lengthList-1))\n",
    "        while(current):\n",
    "            num1 = (num1 + mul*current.data)\n",
    "            mul /= int(10)\n",
    "            current = current.next\n",
    "        \n",
    "        \n",
    "        current = l1.head\n",
    "        num2 = 0\n",
    "        mul = int(pow(10, l1.lengthOfList()-1))\n",
    "        while(current):\n",
    "            num2 = (num2 + mul*current.data)\n",
    "            mul /= int(10)\n",
    "            current = current.next\n",
    "     \n",
    "        \n",
    "        num = int(num1+num2)\n",
    "        num1=num\n",
    "        ll = linkedlist()\n",
    "        count = 0\n",
    "        while(num1):\n",
    "            count+= 1\n",
    "            num1 = int(num1/10)\n",
    "       \n",
    "        div = int(pow(10,count-1))\n",
    "        while(div >= 1):\n",
    "            data = num // div\n",
    "            ll.append(data)\n",
    "            num = int(num % div)\n",
    "            div = int(div/10)\n",
    "            \n",
    "       \n",
    "        return ll  \n",
    "    \n",
    "    \n",
    "    #book solution\n",
    "    def sumlistEasy(self, l1:linkedlist):\n",
    "        \n",
    "        sumlistEasy(self,l1:linkedlist,carry)\n",
    "        \n",
    "    def sumlistEasy(self, l1:linkedlist,carry):\n",
    "        \n",
    "        ll = \n",
    "        \n",
    "            \n",
    "\n",
    "        \n",
    "                \n",
    "                \n",
    "            \n",
    "    \n",
    "#     def reverseLinkedList(self):\n",
    "#         current = \n",
    "    "
   ]
  },
  {
   "cell_type": "code",
   "execution_count": 393,
   "metadata": {},
   "outputs": [],
   "source": [
    "l1 = linkedlist()\n",
    "l2= linkedlist()"
   ]
  },
  {
   "cell_type": "code",
   "execution_count": 394,
   "metadata": {},
   "outputs": [],
   "source": [
    "#to fill the data in linkedlist we will use numpy\n",
    "import numpy as np\n"
   ]
  },
  {
   "cell_type": "code",
   "execution_count": 395,
   "metadata": {},
   "outputs": [
    {
     "data": {
      "text/plain": [
       "array([8, 5])"
      ]
     },
     "execution_count": 395,
     "metadata": {},
     "output_type": "execute_result"
    }
   ],
   "source": [
    "data1 = np.random.randint(5,10,2)\n",
    "data1"
   ]
  },
  {
   "cell_type": "code",
   "execution_count": 396,
   "metadata": {},
   "outputs": [
    {
     "data": {
      "text/plain": [
       "array([1, 4])"
      ]
     },
     "execution_count": 396,
     "metadata": {},
     "output_type": "execute_result"
    }
   ],
   "source": [
    "data2 = np.random.randint(1,7,2)\n",
    "data2"
   ]
  },
  {
   "cell_type": "code",
   "execution_count": 397,
   "metadata": {},
   "outputs": [],
   "source": [
    "for i,j in zip(data1, data2):\n",
    "    l1.append(i)\n",
    "    l2.append(j)"
   ]
  },
  {
   "cell_type": "code",
   "execution_count": 398,
   "metadata": {},
   "outputs": [
    {
     "name": "stdout",
     "output_type": "stream",
     "text": [
      "1\n",
      "4\n"
     ]
    }
   ],
   "source": [
    "l2.printlinkedlist()"
   ]
  },
  {
   "cell_type": "code",
   "execution_count": 399,
   "metadata": {},
   "outputs": [],
   "source": [
    "l = linkedlist()\n",
    "l = l1.sumlistForward(l2)"
   ]
  },
  {
   "cell_type": "code",
   "execution_count": 400,
   "metadata": {},
   "outputs": [
    {
     "name": "stdout",
     "output_type": "stream",
     "text": [
      "9\n",
      "9\n"
     ]
    }
   ],
   "source": [
    "l.printlinkedlist()"
   ]
  },
  {
   "cell_type": "code",
   "execution_count": 190,
   "metadata": {},
   "outputs": [
    {
     "data": {
      "text/plain": [
       "8"
      ]
     },
     "execution_count": 190,
     "metadata": {},
     "output_type": "execute_result"
    }
   ],
   "source": [
    "102"
   ]
  },
  {
   "cell_type": "code",
   "execution_count": 300,
   "metadata": {},
   "outputs": [
    {
     "data": {
      "text/plain": [
       "int"
      ]
     },
     "execution_count": 300,
     "metadata": {},
     "output_type": "execute_result"
    }
   ],
   "source": [
    "type((123*10))"
   ]
  },
  {
   "cell_type": "code",
   "execution_count": 403,
   "metadata": {},
   "outputs": [
    {
     "name": "stdout",
     "output_type": "stream",
     "text": [
      "c\n",
      "c\n",
      "c\n"
     ]
    }
   ],
   "source": [
    "  "
   ]
  },
  {
   "cell_type": "code",
   "execution_count": null,
   "metadata": {},
   "outputs": [],
   "source": []
  }
 ],
 "metadata": {
  "kernelspec": {
   "display_name": "Python 3",
   "language": "python",
   "name": "python3"
  },
  "language_info": {
   "codemirror_mode": {
    "name": "ipython",
    "version": 3
   },
   "file_extension": ".py",
   "mimetype": "text/x-python",
   "name": "python",
   "nbconvert_exporter": "python",
   "pygments_lexer": "ipython3",
   "version": "3.8.3"
  }
 },
 "nbformat": 4,
 "nbformat_minor": 4
}
